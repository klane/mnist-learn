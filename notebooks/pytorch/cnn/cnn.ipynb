{
  "nbformat": 4,
  "nbformat_minor": 0,
  "metadata": {
    "colab": {
      "name": "cnn.ipynb",
      "provenance": [],
      "authorship_tag": "ABX9TyM4/YyDspSCKZnW7jsYQNbF",
      "include_colab_link": true
    },
    "kernelspec": {
      "name": "python3",
      "display_name": "Python 3"
    },
    "accelerator": "GPU"
  },
  "cells": [
    {
      "cell_type": "markdown",
      "metadata": {
        "id": "view-in-github",
        "colab_type": "text"
      },
      "source": [
        "<a href=\"https://colab.research.google.com/github/klane/playground/blob/master/notebooks/pytorch/cnn/cnn.ipynb\" target=\"_parent\"><img src=\"https://colab.research.google.com/assets/colab-badge.svg\" alt=\"Open In Colab\"/></a>"
      ]
    },
    {
      "cell_type": "code",
      "metadata": {
        "id": "4wTJj-G_UV1Q",
        "colab_type": "code",
        "colab": {}
      },
      "source": [
        "import torch\n",
        "import torch.nn as nn\n",
        "import torch.nn.functional as F\n",
        "import torchvision"
      ],
      "execution_count": null,
      "outputs": []
    },
    {
      "cell_type": "code",
      "metadata": {
        "id": "4qPI4RMyaOsk",
        "colab_type": "code",
        "colab": {}
      },
      "source": [
        "transform = torchvision.transforms.Compose([\n",
        "    torchvision.transforms.ToTensor(),\n",
        "    torchvision.transforms.Normalize(mean=(0.5,), std=(0.5,)),  # [0, 1] range => [-1, 1] range\n",
        "])\n",
        "\n",
        "mnist_train = torchvision.datasets.MNIST(\n",
        "    root='./data', download=True, train=True, transform=transform\n",
        ")\n",
        "\n",
        "mnist_val = torchvision.datasets.MNIST(\n",
        "    root='./data', download=True, train=False, transform=transform\n",
        ")"
      ],
      "execution_count": null,
      "outputs": []
    },
    {
      "cell_type": "code",
      "metadata": {
        "id": "TkREcfEVatk8",
        "colab_type": "code",
        "colab": {}
      },
      "source": [
        "batch_size = 512\n",
        "\n",
        "train_loader = torch.utils.data.DataLoader(\n",
        "    mnist_train, batch_size=batch_size, shuffle=True, num_workers=4, pin_memory=True\n",
        ")\n",
        "\n",
        "val_loader = torch.utils.data.DataLoader(\n",
        "    mnist_val, batch_size=batch_size, num_workers=4, pin_memory=True\n",
        ")"
      ],
      "execution_count": null,
      "outputs": []
    },
    {
      "cell_type": "code",
      "metadata": {
        "id": "jM9yOZkFa53V",
        "colab_type": "code",
        "colab": {}
      },
      "source": [
        "class MyNet(nn.Module):\n",
        "    def __init__(self):\n",
        "        super(MyNet, self).__init__()\n",
        "        self.conv1 = nn.Conv2d(in_channels=1, out_channels=32, kernel_size=5, padding=2)\n",
        "        self.conv2 = nn.Conv2d(in_channels=32, out_channels=64, kernel_size=5)\n",
        "        self.fc1 = nn.Linear(in_features=64 * 5 * 5, out_features=128)\n",
        "        self.fc2 = nn.Linear(in_features=128, out_features=64)\n",
        "        self.fc3 = nn.Linear(in_features=64, out_features=10)\n",
        "\n",
        "    def forward(self, x):\n",
        "        out = F.relu(self.conv1(x))\n",
        "        out = F.max_pool2d(out, 2)\n",
        "        out = F.relu(self.conv2(out))\n",
        "        out = F.max_pool2d(out, 2)\n",
        "        out = out.reshape(out.size(0), -1)\n",
        "        out = F.relu(self.fc1(out))\n",
        "        out = F.relu(self.fc2(out))\n",
        "        out = self.fc3(out)\n",
        "        return out"
      ],
      "execution_count": null,
      "outputs": []
    },
    {
      "cell_type": "code",
      "metadata": {
        "id": "NZOW_NBUbTU5",
        "colab_type": "code",
        "colab": {}
      },
      "source": [
        "def train(net, data_loader, device, optim):\n",
        "    net.train()\n",
        "    \n",
        "    for image, label in data_loader:\n",
        "        # put data onto device\n",
        "        image = image.to(device)\n",
        "        label = label.to(device)\n",
        "        \n",
        "        # clear gradient\n",
        "        optim.zero_grad()\n",
        "        \n",
        "        # forward through the network\n",
        "        prediction = net(image)\n",
        "        \n",
        "        # compute loss and gradient\n",
        "        loss = F.cross_entropy(prediction, label)\n",
        "        loss.backward()\n",
        "        \n",
        "        # update parameters\n",
        "        optim.step()"
      ],
      "execution_count": null,
      "outputs": []
    },
    {
      "cell_type": "code",
      "metadata": {
        "id": "7xWP_PHHbfz3",
        "colab_type": "code",
        "colab": {}
      },
      "source": [
        "def evaluate(net, data_loader, device):\n",
        "    net.eval()\n",
        "    correct = 0\n",
        "\n",
        "    with torch.no_grad():\n",
        "        for image, label in data_loader:\n",
        "            # put data onto the device\n",
        "            image = image.to(device)\n",
        "            label = label.to(device)\n",
        "\n",
        "            # forward through the network, and get the predicted class\n",
        "            prediction = net(image).argmax(dim=-1)\n",
        "\n",
        "            # increment correct count\n",
        "            correct += (prediction == label).sum().item()\n",
        "            \n",
        "    return correct / len(data_loader.dataset)"
      ],
      "execution_count": null,
      "outputs": []
    },
    {
      "cell_type": "code",
      "metadata": {
        "id": "0vLm_pX3b4AN",
        "colab_type": "code",
        "colab": {}
      },
      "source": [
        "torch.manual_seed(1)\n",
        "device = torch.device('cuda' if torch.cuda.is_available() else 'cpu')\n",
        "\n",
        "num_epochs = 10\n",
        "lr = 0.01\n",
        "\n",
        "net = MyNet().to(device)\n",
        "optim = torch.optim.Adam(net.parameters(), lr=lr)\n",
        "scheduler = torch.optim.lr_scheduler.StepLR(optim, step_size=2, gamma=0.5)\n",
        "\n",
        "for epoch in range(num_epochs):\n",
        "    acc_train = evaluate(net, train_loader, device)\n",
        "    acc_val = evaluate(net, val_loader, device)\n",
        "    print('Epoch: {}\\tTrain Accuracy: {:.4f}%\\tValidation Accuracy: {:.4f}%'.format(epoch, acc_train * 100, acc_val * 100))\n",
        "    train(net, train_loader, device, optim)\n",
        "    scheduler.step()\n",
        "\n",
        "acc_train = evaluate(net, train_loader, device)\n",
        "acc_val = evaluate(net, val_loader, device)\n",
        "print('Done! \\tTrain Accuracy: {:.4f}%\\tValidation Accuracy: {:.4f}%'.format(acc_train * 100, acc_val * 100))"
      ],
      "execution_count": null,
      "outputs": []
    }
  ]
}