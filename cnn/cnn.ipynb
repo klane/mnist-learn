{
 "cells": [
  {
   "cell_type": "code",
   "execution_count": null,
   "metadata": {},
   "outputs": [],
   "source": [
    "import matplotlib.pyplot as plt\n",
    "import numpy as np\n",
    "\n",
    "from tensorflow.keras import Sequential, utils\n",
    "from tensorflow.keras.callbacks import TensorBoard\n",
    "from tensorflow.keras.datasets import mnist\n",
    "from tensorflow.keras.layers import Conv2D, Dense, Dropout, Flatten\n",
    "from tensorflow.keras.optimizers import Adam"
   ]
  },
  {
   "cell_type": "code",
   "execution_count": null,
   "metadata": {},
   "outputs": [],
   "source": [
    "(X_train, y_train), (X_test, y_test) = mnist.load_data()\n",
    "\n",
    "# add channel to images (required by tensorflow)\n",
    "img_shape=(28, 28, 1)\n",
    "X_train = X_train.reshape(X_train.shape[0], *img_shape)\n",
    "X_test = X_test.reshape(X_test.shape[0], *img_shape)\n",
    "\n",
    "# convert images to floats\n",
    "X_train = X_train.astype('float32')\n",
    "X_test = X_test.astype('float32')\n",
    "\n",
    "# scale data between [0,1]\n",
    "X_train /= 255\n",
    "X_test /= 255\n",
    "\n",
    "# convert labels to categorical\n",
    "num_classes = 10\n",
    "y_train_cat = utils.to_categorical(y_train, num_classes)\n",
    "y_test_cat = utils.to_categorical(y_test, num_classes)"
   ]
  },
  {
   "cell_type": "code",
   "execution_count": null,
   "metadata": {},
   "outputs": [],
   "source": [
    "model = Sequential()\n",
    "\n",
    "model.add(Conv2D(32, kernel_size=3, activation='relu', input_shape=img_shape))\n",
    "\n",
    "model.add(Conv2D(64, kernel_size=3, strides=2, activation='relu'))\n",
    "model.add(Dropout(0.25))\n",
    "model.add(Flatten())\n",
    "\n",
    "model.add(Dense(128, activation='relu'))\n",
    "model.add(Dropout(0.25))\n",
    "\n",
    "# predict class\n",
    "model.add(Dense(num_classes, activation='softmax'))"
   ]
  },
  {
   "cell_type": "code",
   "execution_count": null,
   "metadata": {},
   "outputs": [],
   "source": [
    "model.summary()"
   ]
  },
  {
   "cell_type": "code",
   "execution_count": null,
   "metadata": {},
   "outputs": [],
   "source": [
    "model.compile(\n",
    "    loss='categorical_crossentropy',\n",
    "    optimizer=Adam(),\n",
    "    metrics=['accuracy']\n",
    ")"
   ]
  },
  {
   "cell_type": "code",
   "execution_count": null,
   "metadata": {},
   "outputs": [],
   "source": [
    "# remove previous logs\n",
    "%rm -r logs/ 2> /dev/null\n",
    "\n",
    "# create callback to store history\n",
    "tb = TensorBoard(log_dir='logs', histogram_freq=1)\n",
    "tb.set_model(model)"
   ]
  },
  {
   "cell_type": "code",
   "execution_count": null,
   "metadata": {},
   "outputs": [],
   "source": [
    "epochs = 10\n",
    "batch_size = 128\n",
    "h = model.fit(X_train, y_train_cat, epochs=epochs, batch_size=batch_size, validation_data=(X_test, y_test_cat), callbacks=[tb])"
   ]
  },
  {
   "cell_type": "code",
   "execution_count": null,
   "metadata": {},
   "outputs": [],
   "source": [
    "plt.figure(figsize=(20, 8))\n",
    "fontsize = 12\n",
    "\n",
    "plt.subplot(1, 2, 1)\n",
    "plt.plot(h.history['loss'], label='Train')\n",
    "plt.plot(h.history['val_loss'], label='Validation')\n",
    "plt.xlabel('Epoch', fontsize=fontsize)\n",
    "plt.ylabel('Loss', fontsize=fontsize)\n",
    "plt.legend()\n",
    "plt.grid()\n",
    "\n",
    "plt.subplot(1, 2, 2)\n",
    "plt.plot(h.history['accuracy'], label='Train')\n",
    "plt.plot(h.history['val_accuracy'], label='Validation')\n",
    "plt.xlabel('Epoch', fontsize=fontsize)\n",
    "plt.ylabel('Accuracy', fontsize=fontsize)\n",
    "plt.legend()\n",
    "plt.grid()"
   ]
  },
  {
   "cell_type": "code",
   "execution_count": null,
   "metadata": {},
   "outputs": [],
   "source": [
    "# find first occurrence of each digit in test data and predict class\n",
    "index = [np.where(y_test == i)[0][0] for i in range(num_classes)]\n",
    "imgs = X_test[index]\n",
    "digits = model.predict_classes(imgs)\n",
    "\n",
    "rows = 2\n",
    "cols = 5\n",
    "fig, axs = plt.subplots(rows, cols, figsize=(20, 8))\n",
    "\n",
    "# plot each image and display the predicted class\n",
    "for i in range(rows):\n",
    "    for j in range(cols):\n",
    "        index = j + i*cols\n",
    "        axs[i,j].imshow(imgs[index].reshape(img_shape[0:2]), cmap='gray_r');\n",
    "        axs[i,j].set_title(f'Predicted Class: {digits[index]}')"
   ]
  },
  {
   "cell_type": "code",
   "execution_count": null,
   "metadata": {},
   "outputs": [],
   "source": [
    "# get accuracy on test data by digit\n",
    "digits = range(num_classes)\n",
    "index = [y_test == i for i in digits]\n",
    "acc = [model.evaluate(X_test[i], y_test_cat[i], verbose=0)[1] for i in index]\n",
    "\n",
    "plt.figure(figsize=(10, 6))\n",
    "plt.bar(digits, acc)\n",
    "plt.xlabel('Digit', fontsize=fontsize)\n",
    "plt.ylabel('Accuracy', fontsize=fontsize)\n",
    "plt.xticks(digits, fontsize=fontsize);"
   ]
  }
 ],
 "metadata": {
  "kernelspec": {
   "display_name": "Python 3",
   "language": "python",
   "name": "python3"
  },
  "language_info": {
   "codemirror_mode": {
    "name": "ipython",
    "version": 3
   },
   "file_extension": ".py",
   "mimetype": "text/x-python",
   "name": "python",
   "nbconvert_exporter": "python",
   "pygments_lexer": "ipython3",
   "version": "3.7.4"
  }
 },
 "nbformat": 4,
 "nbformat_minor": 4
}
